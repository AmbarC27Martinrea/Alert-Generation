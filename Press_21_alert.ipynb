{
 "cells": [
  {
   "cell_type": "code",
   "execution_count": 60,
   "metadata": {},
   "outputs": [],
   "source": [
    "import pymongo\n",
    "import pandas as pd\n",
    "import matplotlib.pyplot as plt \n",
    "from datetime import datetime, timedelta\n",
    "from Press_21_threshold import *\n",
    "from error_class import Error\n"
   ]
  },
  {
   "cell_type": "code",
   "execution_count": 61,
   "metadata": {},
   "outputs": [
    {
     "name": "stdout",
     "output_type": "stream",
     "text": [
      "                            min       max\n",
      "Col1_Gibbs_Vrms          0.0002    0.0066\n",
      "Col1_Gibbs_Apeak         0.5000   32.4000\n",
      "Col1_Gibbs_Arms          0.2000    4.1000\n",
      "Col1_Gibbs_Crest         3.0000   15.9000\n",
      "Col1_Gibbs_Temp         85.8200   86.1800\n",
      "...                         ...       ...\n",
      "Prs_LubePostFilterPre  236.6240  353.4571\n",
      "Prs_LubePreFilterPre   289.8644  408.1764\n",
      "Rm_LubeBlckInPre       100.5652  181.9047\n",
      "Rm_LeftLwrLnk_Pre       20.7046   26.6202\n",
      "Rm_RightLwrLnk_Pre      16.2679   23.6624\n",
      "\n",
      "[101 rows x 2 columns]\n",
      "[Col1_Gibbs_Vrms: Sensor registered data below lower limit, Col1_Gibbs_Apeak: Sensor registered data below lower limit, Col1_Gibbs_Arms: Sensor registered data below lower limit, Col1_Gibbs_Crest: Sensor registered data both below limit and above upper limit in the last 5 minutes, Col1_Gibbs_Temp: Sensor registered data below lower limit, Col2_Gibbs_Vrms: Sensor registered data below lower limit, Col2_Gibbs_Apeak: Sensor registered data below lower limit, Col2_Gibbs_Arms: Sensor registered data below lower limit, Col2_Gibbs_Crest: Sensor registered data both below limit and above upper limit in the last 5 minutes, Col2_Gibbs_Temp: Sensor registered data below lower limit, Col3_Gibbs_Apeak: Sensor registered data below lower limit, Col3_Gibbs_Arms: Sensor registered data below lower limit, Col3_Gibbs_Crest: Sensor registered data both below limit and above upper limit in the last 5 minutes, Col3_Gibbs_Temp: Sensor registered data below lower limit, Col4_Gibbs_Apeak: Sensor registered data below lower limit, Col4_Gibbs_Arms: Sensor registered data below lower limit, Col4_Gibbs_Crest: Sensor registered data both below limit and above upper limit in the last 5 minutes, Col4_Gibbs_Temp: Sensor registered data below lower limit, Rm_LCNut_Apeak: Sensor registered data below lower limit, Rm_LCNut_Arms: Sensor registered data below lower limit, Rm_LCNut_Crest: Sensor registered data both below limit and above upper limit in the last 5 minutes, Rm_LCNut_Temp: Sensor registered data below lower limit, Rm_AdjMtr_Vrms: Sensor registered data below lower limit, Rm_AdjMtr_Arms: Sensor registered data below lower limit, Rm_AdjMtr_Crest: Sensor registered data both below limit and above upper limit in the last 5 minutes, Rm_AdjMtr_Temp: Sensor registered data below lower limit, Rm_AdjBrng_Vrms: Sensor registered data below lower limit, Rm_AdjBrng_Apeak: Sensor registered data below lower limit, Rm_AdjBrng_Arms: Sensor registered data below lower limit, Rm_AdjBrng_Crest: Sensor registered data both below limit and above upper limit in the last 5 minutes, Rm_AdjBrng_Temp: Sensor registered data below lower limit, Rm_RCNut_Apeak: Sensor registered data below lower limit, Rm_RCNut_Arms: Sensor registered data below lower limit, Rm_RCNut_Crest: Sensor registered data both below limit and above upper limit in the last 5 minutes, Rm_RCNut_Temp: Sensor registered data below lower limit, Prs_MMtrCltch_Vrms: Sensor registered data below lower limit, Prs_MMtrCltch_Apeak: Sensor registered data both below limit and above upper limit in the last 5 minutes, Prs_MMtrCltch_Arms: Sensor registered data below lower limit, Prs_MMtrCltch_Crest: Sensor registered data both below limit and above upper limit in the last 5 minutes, Prs_MMtrCltch_Temp: Sensor registered data below lower limit, Prs_MMtr_Vrms: Sensor registered data below lower limit, Prs_MMtr_Apeak: Sensor registered data both below limit and above upper limit in the last 5 minutes, Prs_MMtr_Arms: Sensor registered data below lower limit, Prs_MMtr_Crest: Sensor registered data both below limit and above upper limit in the last 5 minutes, Prs_MMtr_Temp: Sensor registered data below lower limit, ClutchPre: Sensor registered data below lower limit, Cl_Br_SrgTankPre: Sensor registered data below lower limit, R_Cbal_RsrPre: Sensor registered data below lower limit, BrakePre: Sensor registered data below lower limit, Prs_Main_AirPre: Sensor registered data both below limit and above upper limit in the last 5 minutes, CounterBalance_Pre: Sensor registered data below lower limit, LubeBlock1Pre: Sensor registered data both below limit and above upper limit in the last 5 minutes, RLIntrBrng_Apeak: Sensor registered data below lower limit, RLIntrBrng_Arms: Sensor registered data below lower limit, RLIntrBrng_Crest: Sensor registered data both below limit and above upper limit in the last 5 minutes, RLIntrBrng_Temp: Sensor registered data below lower limit, FrontLubeBlockPre: Sensor registered data both below limit and above upper limit in the last 5 minutes, FL_EccBshng_Crest: Sensor registered data below lower limit, FL_IntrBrng_Vrms: Sensor registered data below lower limit, FL_IntrBrng_Apeak: Sensor registered data below lower limit, FL_IntrBrng_Arms: Sensor registered data below lower limit, FL_IntrBrng_Crest: Sensor registered data both below limit and above upper limit in the last 5 minutes, FRIntrBrng_Vrms: Sensor registered data below lower limit, FRIntrBrng_Apeak: Sensor registered data below lower limit, FRIntrBrng_Arms: Sensor registered data below lower limit, FREccBshng_Vrms: Sensor registered data below lower limit, FREccBshng_Apeak: Sensor registered data below lower limit, FREccBshng_Arms: Sensor registered data below lower limit, FREccBshng_Crest: Sensor registered data both below limit and above upper limit in the last 5 minutes, LubeBlock2Pre: Sensor registered data below lower limit, RRIntrBrng_Apeak: Sensor registered data below lower limit, RRIntrBrng_Arms: Sensor registered data below lower limit, RRIntrBrng_Crest: Sensor registered data both below limit and above upper limit in the last 5 minutes, RRIntrBrng_Temp: Sensor registered data below lower limit, LubePump_Apeak: Sensor registered data both below limit and above upper limit in the last 5 minutes, LubePump_Arms: Sensor registered data below lower limit, LubePump_Crest: Sensor registered data below lower limit, LubePump_Temp: Sensor registered data below lower limit, LubeMotor_Apeak: Sensor registered data below lower limit, LubeMotor_Arms: Sensor registered data below lower limit, LubeMotor_Crest: Sensor registered data below lower limit, LubeMotor_Temp: Sensor registered data below lower limit, Prs_LubePostFilterPre: Sensor registered data both below limit and above upper limit in the last 5 minutes, Prs_LubePreFilterPre: Sensor registered data both below limit and above upper limit in the last 5 minutes, Rm_LubeBlckInPre: Sensor registered data both below limit and above upper limit in the last 5 minutes, Rm_LeftLwrLnk_Pre: Sensor registered data below lower limit, Rm_RightLwrLnk_Pre: Sensor registered data below lower limit]\n"
     ]
    }
   ],
   "source": [
    "def press_21_alert_generator(start,end):\n",
    "    press = \"Press_21\"\n",
    "\n",
    "    sensor_dict = press_21_quantiles(start,end)\n",
    "\n",
    "    myclient_global = pymongo.MongoClient(host = \"128.121.34.13\", connect = True )\n",
    "    press_db = myclient_global[press]\n",
    "    end = datetime.now()\n",
    "    start   = end - timedelta(minutes=60)\n",
    "\n",
    "    min_max = pd.DataFrame()\n",
    "\n",
    "    for batch in ['BATCH_1','BATCH_2']:\n",
    "        collection= press_db[batch]\n",
    "        projection = {}\n",
    "        projection['_id'] = 0\n",
    "        projection['Date'] = 1\n",
    "\n",
    "        for sensor in sensor_dict.keys():\n",
    "            projection[sensor] = 1\n",
    "\n",
    "        QUERY = {\"Date\": {'$gte': start, '$lt':  end}}\n",
    "        results = collection.find(QUERY,projection)\n",
    "        df1 = pd.DataFrame(results).set_index('Date')\n",
    "        describe = df1.describe().T\n",
    "        describe = df1.quantile([0.005,0.995], axis = 0)\n",
    "        # describe = describe[['min','max']]\n",
    "        min_max = pd.concat([min_max,describe],axis=1)\n",
    "\n",
    "    # print(min_max)\n",
    "\n",
    "    error_list = []\n",
    "    for i in range(len(min_max)):\n",
    "        name = min_max.columns[i]\n",
    "        lower = min_max.iloc[i,0]\n",
    "        upper = min_max.iloc[i,1]\n",
    "        [lower_limit, upper_limit] = sensor_dict[name]\n",
    "\n",
    "        if lower < lower_limit and upper > upper_limit:\n",
    "            lower_error = True\n",
    "            upper_error = True\n",
    "        elif lower < lower_limit:\n",
    "            lower_error = True\n",
    "            upper_error = False\n",
    "        elif upper > upper_limit:\n",
    "            lower_error = False\n",
    "            upper_error = True\n",
    "        else:\n",
    "            lower_error = False\n",
    "            upper_error = False\n",
    "\n",
    "        if lower_error or upper_error:\n",
    "            descr = \"\"\n",
    "            if lower_error and upper_error:\n",
    "                descr = \"Sensor registered data both below limit and above upper limit in the last 5 minutes\"\n",
    "            elif lower_error:\n",
    "                descr = \"Sensor registered data below lower limit\"\n",
    "            elif upper_error:\n",
    "                descr = \"Sensor registered data above upper limit\"\n",
    "            error = Error(name,descr)\n",
    "            error_list.append(error)\n",
    "\n",
    "    return error_list\n",
    "    \n",
    "# print(min_max.iloc[1].name)"
   ]
  }
 ],
 "metadata": {
  "kernelspec": {
   "display_name": "Python 3",
   "language": "python",
   "name": "python3"
  },
  "language_info": {
   "codemirror_mode": {
    "name": "ipython",
    "version": 3
   },
   "file_extension": ".py",
   "mimetype": "text/x-python",
   "name": "python",
   "nbconvert_exporter": "python",
   "pygments_lexer": "ipython3",
   "version": "3.9.0"
  },
  "orig_nbformat": 4
 },
 "nbformat": 4,
 "nbformat_minor": 2
}
