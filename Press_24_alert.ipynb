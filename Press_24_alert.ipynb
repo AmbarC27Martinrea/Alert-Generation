{
 "cells": [
  {
   "cell_type": "code",
   "execution_count": 1,
   "metadata": {},
   "outputs": [],
   "source": [
    "import pymongo\n",
    "import pandas as pd\n",
    "import matplotlib.pyplot as plt \n",
    "from datetime import datetime, timedelta\n",
    "from Press_24_threshold import *\n",
    "from error_class import Error"
   ]
  },
  {
   "cell_type": "code",
   "execution_count": 2,
   "metadata": {},
   "outputs": [
    {
     "name": "stdout",
     "output_type": "stream",
     "text": [
      "                          min        max\n",
      "FL_UprLink_Pin_Vrms    0.0000     0.0037\n",
      "FL_UprLink_Pin_Apk     0.1000   101.4000\n",
      "FL_UprLink_Pin_Arms    0.0000     2.6000\n",
      "FL_UprLink_Pin_Crst    3.0000  3276.0000\n",
      "FL_UprLink_Pin_Temp   95.3600    96.8000\n",
      "...                       ...        ...\n",
      "Stnr_HydMtrVrms        0.0001     0.0056\n",
      "Stnr_HydMtrApk         0.2000  3276.0000\n",
      "Stnr_HydMtrArms        0.1000    17.9000\n",
      "Stnr_HydMtrCrst        2.9000  3276.0000\n",
      "Stnr_HydMtrTemp      110.4800   113.7200\n",
      "\n",
      "[185 rows x 2 columns]\n",
      "[FL_UprLink_Pin_Vrms: Sensor registered data above upper limit, FL_UprLink_Pin_Apk: Sensor registered data both below limit and above upper limit in the last 5 minutes, FL_UprLink_Pin_Arms: Sensor registered data above upper limit, FL_UprLink_Pin_Crst: Sensor registered data both below limit and above upper limit in the last 5 minutes, FL_UprLink_Pin_Temp: Sensor registered data above upper limit, FL_Eccntric_Pin_Vrms: Sensor registered data above upper limit, FL_Eccntric_Pin_Apk: Sensor registered data both below limit and above upper limit in the last 5 minutes, FL_Eccntric_Pin_Arms: Sensor registered data both below limit and above upper limit in the last 5 minutes, FL_Eccntric_Pin_Crst: Sensor registered data both below limit and above upper limit in the last 5 minutes, FL_Eccntric_Pin_TempFar: Sensor registered data above upper limit, Frnt_InterPin_Vrms: Sensor registered data both below limit and above upper limit in the last 5 minutes, Frnt_InterPin_Apk: Sensor registered data above upper limit, Frnt_InterPin_Arms: Sensor registered data above upper limit, Frnt_InterPin_Crst: Sensor registered data both below limit and above upper limit in the last 5 minutes, Frnt_InterPin_Temp: Sensor registered data above upper limit, Drive_Shaft_Pin_Vrms: Sensor registered data above upper limit, Drive_Shaft_Pin_Apk: Sensor registered data both below limit and above upper limit in the last 5 minutes, Drive_Shaft_Pin_Arms: Sensor registered data both below limit and above upper limit in the last 5 minutes, Drive_Shaft_Pin_Crst: Sensor registered data both below limit and above upper limit in the last 5 minutes, Drive_Shaft_Pin_Temp: Sensor registered data above upper limit, FR_Eccntric_Pin_Vrms: Sensor registered data above upper limit, FR_Eccntric_Pin_Apk: Sensor registered data both below limit and above upper limit in the last 5 minutes, FR_Eccntric_Pin_Arms: Sensor registered data both below limit and above upper limit in the last 5 minutes, FR_Eccntric_Pin_Crst: Sensor registered data above upper limit, FR_Eccntric_Pin_Temp: Sensor registered data above upper limit, FR_UprLink_Pin_Vrms: Sensor registered data above upper limit, FR_UprLink_Pin_Apk: Sensor registered data above upper limit, FR_UprLink_Pin_Arms: Sensor registered data above upper limit, FR_UprLink_Pin_Crst: Sensor registered data both below limit and above upper limit in the last 5 minutes, FR_UprLink_Pin_Temp: Sensor registered data above upper limit, Ram_FR_CNut_Vrms: Sensor registered data both below limit and above upper limit in the last 5 minutes, Ram_FR_CNut_Apk: Sensor registered data above upper limit, Ram_FR_CNut_Arms: Sensor registered data both below limit and above upper limit in the last 5 minutes, Ram_FR_CNut_Crst: Sensor registered data both below limit and above upper limit in the last 5 minutes, Ram_FR_CNut_Temp: Sensor registered data above upper limit, Ram_FL_CNut_Vrms: Sensor registered data above upper limit, Ram_FL_CNut_Apk: Sensor registered data above upper limit, Ram_FL_CNut_Arms: Sensor registered data above upper limit, Ram_FL_CNut_Crst: Sensor registered data both below limit and above upper limit in the last 5 minutes, Ram_FL_CNut_Temp: Sensor registered data above upper limit, Ram_RR_CNut_Vrms: Sensor registered data above upper limit, Ram_RR_CNut_Apk: Sensor registered data above upper limit, Ram_RR_CNut_Arms: Sensor registered data above upper limit, Ram_RR_CNut_Crst: Sensor registered data both below limit and above upper limit in the last 5 minutes, Ram_RR_CNut_Temp: Sensor registered data above upper limit, Ram_RL_CNut_Vrms: Sensor registered data above upper limit, Ram_RL_CNut_Apk: Sensor registered data above upper limit, Ram_RL_CNut_Arms: Sensor registered data above upper limit, Ram_RL_CNut_Crst: Sensor registered data both below limit and above upper limit in the last 5 minutes, Ram_RL_CNut_Temp: Sensor registered data above upper limit, RadMtr_Vrms: Sensor registered data both below limit and above upper limit in the last 5 minutes, RadMtr_Apk: Sensor registered data both below limit and above upper limit in the last 5 minutes, RadMtr_Arms: Sensor registered data above upper limit, RadMtr_Crst: Sensor registered data above upper limit, RadMtr_Temp: Sensor registered data above upper limit, Crwn_HydUnit_Resvr_OilLvl: Sensor registered data both below limit and above upper limit in the last 5 minutes, Crwn_HydUnit_HydClutch_Pre: Sensor registered data both below limit and above upper limit in the last 5 minutes, Crwn_HydUnit_HydraulicPre: Sensor registered data both below limit and above upper limit in the last 5 minutes, Crwn_HydUnit_HydMtrVrms: Sensor registered data both below limit and above upper limit in the last 5 minutes, Crwn_HydUnit_HydMtrApk: Sensor registered data above upper limit, Crwn_HydUnit_HydMtrArms: Sensor registered data above upper limit, Crwn_HydUnit_HydMtrCrst: Sensor registered data both below limit and above upper limit in the last 5 minutes, Crwn_HydUnit_HydMtrTemp: Sensor registered data above upper limit, Crwn_HydUnit_HydPmp_Vrms: Sensor registered data both below limit and above upper limit in the last 5 minutes, Crwn_HydUnit_HydPmp_Apk: Sensor registered data both below limit and above upper limit in the last 5 minutes, Crwn_HydUnit_HydPmp_Arms: Sensor registered data both below limit and above upper limit in the last 5 minutes, Crwn_HydUnit_HydPmp_Crst: Sensor registered data both below limit and above upper limit in the last 5 minutes, Crwn_HydUnit_HydPmp_Temp: Sensor registered data above upper limit, QDC_Drive_Pre_PSI: Sensor registered data above upper limit, FL_Gb_Cnd_Vrms: Sensor registered data above upper limit, FL_Gb_Cnd_Apk: Sensor registered data above upper limit, FL_Gb_Cnd_Arms: Sensor registered data above upper limit, FL_Gb_Cnd_Crst: Sensor registered data both below limit and above upper limit in the last 5 minutes, FL_Gb_Cnd_Temp: Sensor registered data above upper limit, FR_Gb_Cnd_Vrms: Sensor registered data above upper limit, FR_Gb_Cnd_Apk: Sensor registered data above upper limit, FR_Gb_Cnd_Arms: Sensor registered data both below limit and above upper limit in the last 5 minutes, FR_Gb_Cnd_Crst: Sensor registered data both below limit and above upper limit in the last 5 minutes, FR_Gb_Cnd_Temp: Sensor registered data above upper limit, RR_Gb_Cnd_Apk: Sensor registered data above upper limit, RR_Gb_Cnd_Arms: Sensor registered data both below limit and above upper limit in the last 5 minutes, RR_Gb_Cnd_Vrms: Sensor registered data above upper limit, RR_Gb_Cnd_Crst: Sensor registered data both below limit and above upper limit in the last 5 minutes, RR_Gb_Cnd_Temp: Sensor registered data above upper limit, RL_Gb_Cnd_Vrms: Sensor registered data above upper limit, RL_Gb_Cnd_Apk: Sensor registered data above upper limit, RL_Gb_Cnd_Arms: Sensor registered data both below limit and above upper limit in the last 5 minutes, RL_Gb_Cnd_Crst: Sensor registered data both below limit and above upper limit in the last 5 minutes, RL_Gb_Cnd_Temp: Sensor registered data above upper limit, Ram_FR_CNut_Lube_Pre: Sensor registered data above upper limit, Ram_FL_CNut_Lube_Pre: Sensor registered data both below limit and above upper limit in the last 5 minutes, Ram_RR_CNut_Lube_Pre: Sensor registered data above upper limit, Ram_Adj_Mtr_Vrms: Sensor registered data above upper limit, Ram_Adj_Mtr_Apk: Sensor registered data above upper limit, Ram_Adj_Mtr_Arms: Sensor registered data below lower limit, Ram_Adj_Mtr_Crest: Sensor registered data both below limit and above upper limit in the last 5 minutes, Ram_Adj_Mtr_Temp: Sensor registered data above upper limit, RR_EccntricBshg_Vrms: Sensor registered data above upper limit, RR_EccntricBshg_Apk: Sensor registered data above upper limit, RR_EccntricBshg_Arms: Sensor registered data both below limit and above upper limit in the last 5 minutes, RR_EccntricBshg_Crst: Sensor registered data both below limit and above upper limit in the last 5 minutes, RR_EccntricBshg_Temp: Sensor registered data above upper limit, RR_UprLink_Bshg_Vrms: Sensor registered data above upper limit, RR_UprLink_Bshg_Apk: Sensor registered data above upper limit, RR_UprLink_Bshg_Arms: Sensor registered data both below limit and above upper limit in the last 5 minutes, RR_UprLink_Bshg_Crst: Sensor registered data both below limit and above upper limit in the last 5 minutes, RR_UprLink_Bshg_Temp: Sensor registered data above upper limit, FlyWhlShaftBshg_Outside_Vrms: Sensor registered data above upper limit, FlyWhlShaftBshg_Outside_Apk: Sensor registered data both below limit and above upper limit in the last 5 minutes, FlyWhlShaftBshg_Outside_Arms: Sensor registered data both below limit and above upper limit in the last 5 minutes, FlyWhlShaftBshg_Outside_Crst: Sensor registered data both below limit and above upper limit in the last 5 minutes, FlyWhlShaftBshg_Outside_Temp: Sensor registered data above upper limit, RL_EccntricBshg_Vrms: Sensor registered data above upper limit, RL_EccntricBshg_Apk: Sensor registered data above upper limit, RL_EccntricBshg_Arms: Sensor registered data above upper limit, RL_EccntricBshg_Crst: Sensor registered data both below limit and above upper limit in the last 5 minutes, RL_EccntricBshg_Temp: Sensor registered data above upper limit, RL_UprLink_Bshg_Vrms: Sensor registered data above upper limit, RL_UprLink_Bshg_Apk: Sensor registered data above upper limit, RL_UprLink_Bshg_Arms: Sensor registered data both below limit and above upper limit in the last 5 minutes, RL_UprLink_Bshg_Crst: Sensor registered data both below limit and above upper limit in the last 5 minutes, RL_UprLink_Bshg_Temp: Sensor registered data above upper limit, Xfer_UnitHydMtr_Apk: Sensor registered data below lower limit, Xfer_UnitHydMtr_Crst: Sensor registered data both below limit and above upper limit in the last 5 minutes, Stnr_Mtr_Vrms: Sensor registered data both below limit and above upper limit in the last 5 minutes, Stnr_Mtr_Apk: Sensor registered data both below limit and above upper limit in the last 5 minutes, Stnr_Mtr_Arms: Sensor registered data both below limit and above upper limit in the last 5 minutes, Stnr_Mtr_Crst: Sensor registered data both below limit and above upper limit in the last 5 minutes, Stnr_Mtr_Temp: Sensor registered data above upper limit, DieClamp1_Pre: Sensor registered data above upper limit, DieClamp2_Pre: Sensor registered data above upper limit, QDC_UnClamp_Pre: Sensor registered data above upper limit, QDC_Clamp_Pre: Sensor registered data above upper limit, MainHPU_Psressure_Pre: Sensor registered data above upper limit, uncolr_Mandrel_ret_Pre: Sensor registered data above upper limit, uncolr_Mandrel_Exp_Pre: Sensor registered data both below limit and above upper limit in the last 5 minutes, uncolr_Mandrel_JgFwd_Pre: Sensor registered data both below limit and above upper limit in the last 5 minutes, uncolr_Mandrel_JgRev_Pre: Sensor registered data both below limit and above upper limit in the last 5 minutes, Pit_Hyd_Prefilter_Real_PSI: Sensor registered data below lower limit, Pit_HydPre_Postfilter_Real_PSI: Sensor registered data below lower limit, Pit_Pmp_Vrms: Sensor registered data both below limit and above upper limit in the last 5 minutes, Pit_Pmp_Apk: Sensor registered data below lower limit, Pit_Pmp_Arms: Sensor registered data below lower limit, Pit_Pmp_Crst: Sensor registered data both below limit and above upper limit in the last 5 minutes, Pit_Pmp_Temp: Sensor registered data above upper limit, Pit_Mtr_Vrms: Sensor registered data above upper limit, Pit_Mtr_Apk: Sensor registered data below lower limit, Pit_Mtr_Arms: Sensor registered data below lower limit, Pit_Mtr_Crst: Sensor registered data both below limit and above upper limit in the last 5 minutes, Pit_Mtr_Temp: Sensor registered data above upper limit, Fdr_UpDwn_Pnmatic_Pre: Sensor registered data above upper limit, Stnr_Pmp_HydPre: Sensor registered data both below limit and above upper limit in the last 5 minutes, Stnr_Pmp_Vrms: Sensor registered data above upper limit, Stnr_Pmp_Apk: Sensor registered data above upper limit, Stnr_Pmp_Arms: Sensor registered data above upper limit, Stnr_Pmp_Crst: Sensor registered data both below limit and above upper limit in the last 5 minutes, Stnr_Pmp_Temp: Sensor registered data above upper limit, Stnr_MandrelArmRoller_FwdPre: Sensor registered data both below limit and above upper limit in the last 5 minutes, Stnr_MandrelArmRoller_RevPre: Sensor registered data both below limit and above upper limit in the last 5 minutes, Stnr_HydMtrVrms: Sensor registered data above upper limit, Stnr_HydMtrApk: Sensor registered data both below limit and above upper limit in the last 5 minutes, Stnr_HydMtrArms: Sensor registered data both below limit and above upper limit in the last 5 minutes, Stnr_HydMtrCrst: Sensor registered data both below limit and above upper limit in the last 5 minutes, Stnr_HydMtrTemp: Sensor registered data above upper limit]\n"
     ]
    }
   ],
   "source": [
    "def press_24_alert_generator(start,end):\n",
    "    press = \"Press_24\"\n",
    "\n",
    "    sensor_dict = press_24_quantiles(start,end)\n",
    "\n",
    "    myclient_global = pymongo.MongoClient(host = \"128.121.34.13\", connect = True )\n",
    "    press_db = myclient_global[press]\n",
    "    end = datetime.now()\n",
    "    start   = end - timedelta(minutes=60)\n",
    "\n",
    "    min_max = pd.DataFrame()\n",
    "\n",
    "    for batch in ['BATCH_1','BATCH_2','BATCH_3','BATCH_4']:\n",
    "        collection= press_db[batch]\n",
    "        projection = {}\n",
    "        projection['_id'] = 0\n",
    "        projection['Date'] = 1\n",
    "\n",
    "        for sensor in sensor_dict.keys():\n",
    "            projection[sensor] = 1\n",
    "\n",
    "        QUERY = {\"Date\": {'$gte': start, '$lt':  end}}\n",
    "        results = collection.find(QUERY,projection)\n",
    "        df1 = pd.DataFrame(results).set_index('Date')\n",
    "        describe = df1.describe().T\n",
    "        describe = df1.quantile([0.005,0.995], axis = 0)\n",
    "        # describe = describe[['min','max']]\n",
    "        min_max = pd.concat([min_max,describe],axis=1)\n",
    "\n",
    "    # print(min_max)\n",
    "\n",
    "    error_list = []\n",
    "    for i in range(len(min_max)):\n",
    "        name = min_max.columns[i]\n",
    "        lower = min_max.iloc[i,0]\n",
    "        upper = min_max.iloc[i,1]\n",
    "        [lower_limit, upper_limit] = sensor_dict[name]\n",
    "\n",
    "        if lower < lower_limit and upper > upper_limit:\n",
    "            lower_error = True\n",
    "            upper_error = True\n",
    "        elif lower < lower_limit:\n",
    "            lower_error = True\n",
    "            upper_error = False\n",
    "        elif upper > upper_limit:\n",
    "            lower_error = False\n",
    "            upper_error = True\n",
    "        else:\n",
    "            lower_error = False\n",
    "            upper_error = False\n",
    "\n",
    "        if lower_error or upper_error:\n",
    "            descr = \"\"\n",
    "            if lower_error and upper_error:\n",
    "                descr = \"Sensor registered data both below limit and above upper limit in the last 5 minutes\"\n",
    "            elif lower_error:\n",
    "                descr = \"Sensor registered data below lower limit\"\n",
    "            elif upper_error:\n",
    "                descr = \"Sensor registered data above upper limit\"\n",
    "            error = Error(name,descr)\n",
    "            error_list.append(error)\n",
    "\n",
    "    return error_list\n",
    "\n",
    "# print(press_24_alert_generator(datetime(2023,6,13,10,0,0),datetime(2023,6,13,11,0,0)))"
   ]
  }
 ],
 "metadata": {
  "kernelspec": {
   "display_name": "Python 3",
   "language": "python",
   "name": "python3"
  },
  "language_info": {
   "codemirror_mode": {
    "name": "ipython",
    "version": 3
   },
   "file_extension": ".py",
   "mimetype": "text/x-python",
   "name": "python",
   "nbconvert_exporter": "python",
   "pygments_lexer": "ipython3",
   "version": "3.9.0"
  },
  "orig_nbformat": 4
 },
 "nbformat": 4,
 "nbformat_minor": 2
}
