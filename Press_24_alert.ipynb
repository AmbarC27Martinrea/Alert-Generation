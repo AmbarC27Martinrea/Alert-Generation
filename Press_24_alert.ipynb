{
 "cells": [
  {
   "cell_type": "code",
   "execution_count": 1,
   "metadata": {},
   "outputs": [],
   "source": [
    "import pymongo\n",
    "import pandas as pd\n",
    "import matplotlib.pyplot as plt \n",
    "from datetime import datetime, timedelta\n",
    "\n",
    "sensor_dict = {'DieClamp1_Pre': [0.0, 3000.688], 'DieClamp2_Pre': [0.0, 2999.209], 'QDC_UnClamp_Pre': [2.9578, 7.3945], 'QDC_Clamp_Pre': [0.0, 4.4367], 'QDC_Lift_Pre': [0.0, 0.0], 'MainHPU_Psressure_Pre': [2826.178, 2994.772], 'Pnmatic_Driving_Pre': [54.7193, 56.1982], 'FL_UprLink_Pin_Vrms': [0.0, 0.002], 'FL_UprLink_Pin_Apk': [0.2, 44.2], 'FL_UprLink_Pin_Arms': [0.0, 1.8], 'FL_UprLink_Pin_Crst': [3.5, 37.6], 'FL_UprLink_Pin_Temp': [89.6, 95.18001], 'FL_Eccntric_Pin_Vrms': [0.0, 0.0022], 'FL_Eccntric_Pin_Apk': [0.3, 67.2], 'FL_Eccntric_Pin_Arms': [0.1, 2.7], 'FL_Eccntric_Pin_Crst': [2.7, 40.2], 'FL_Eccntric_Pin_TempFar': [90.68001, 99.14], 'Frnt_InterPin_Vrms': [0.0001, 0.0043], 'Frnt_InterPin_Apk': [0.2, 86.0], 'Frnt_InterPin_Arms': [0.0, 2.8], 'Frnt_InterPin_Crst': [3.1, 33.9], 'Frnt_InterPin_Temp': [88.16, 93.2], 'Drive_Shaft_Pin_Vrms': [0.0, 0.0039], 'Drive_Shaft_Pin_Apk': [0.4, 125.7], 'Drive_Shaft_Pin_Arms': [0.1, 5.6], 'Drive_Shaft_Pin_Crst': [2.0, 43.4], 'Drive_Shaft_Pin_Temp': [90.32001, 98.6], 'FR_Eccntric_Pin_Vrms': [0.0, 0.0035], 'FR_Eccntric_Pin_Apk': [0.3, 69.9], 'FR_Eccntric_Pin_Arms': [0.1, 3.6], 'FR_Eccntric_Pin_Crst': [2.7, 40.8], 'FR_Eccntric_Pin_Temp': [89.24001, 97.34], 'FR_UprLink_Pin_Vrms': [0.0, 0.0027], 'FR_UprLink_Pin_Apk': [0.2, 107.7], 'FR_UprLink_Pin_Arms': [0.0, 3.0], 'FR_UprLink_Pin_Crst': [2.7, 38.8], 'FR_UprLink_Pin_Temp': [88.88, 93.38], 'RR_EccntricBshg_Vrms': [0.0, 0.0032], 'RR_EccntricBshg_Apk': [0.2, 17.0], 'RR_EccntricBshg_Arms': [0.1, 1.5], 'RR_EccntricBshg_Crst': [3.0, 23.9], 'RR_EccntricBshg_Temp': [89.6, 94.82001], 'RR_UprLink_Bshg_Vrms': [0.0, 0.0022], 'RR_UprLink_Bshg_Apk': [0.2, 92.62000000001862], 'RR_UprLink_Bshg_Arms': [0.1, 2.7], 'RR_UprLink_Bshg_Crst': [3.2, 40.0], 'RR_UprLink_Bshg_Temp': [89.42, 93.56], 'FlyWhlShaftBshg_Outside_Vrms': [0.0001, 0.0039], 'FlyWhlShaftBshg_Outside_Apk': [0.9, 37.2], 'FlyWhlShaftBshg_Outside_Arms': [0.2, 2.4], 'FlyWhlShaftBshg_Outside_Crst': [2.6, 17.4], 'FlyWhlShaftBshg_Outside_Temp': [98.42001, 103.82], 'RL_EccntricBshg_Vrms': [0.0, 0.0022], 'RL_EccntricBshg_Apk': [0.3, 37.9], 'RL_EccntricBshg_Arms': [0.1, 2.4], 'RL_EccntricBshg_Crst': [2.8, 36.9], 'RL_EccntricBshg_Temp': [89.06, 96.8], 'RL_UprLink_Bshg_Vrms': [0.0, 0.003], 'RL_UprLink_Bshg_Apk': [0.2, 76.4], 'RL_UprLink_Bshg_Arms': [0.1, 2.9], 'RL_UprLink_Bshg_Crst': [1.8, 32.3], 'RL_UprLink_Bshg_Temp': [86.9, 91.58], 'uncolr_Mandrel_ret_Pre': [0.0, 31.0569], 'uncolr_Mandrel_Exp_Pre': [837.0574, 1082.555], 'uncolr_Mandrel_JgFwd_Pre': [13.3101, 718.7454], 'uncolr_Mandrel_JgRev_Pre': [1.4789, 845.9308], 'uncolr_ClutchnBrake_Pre': [0.0, 0.0], 'Fdr_Pnch_Rler_Pnmatic_Pre': [11.8312, 16.2679], 'Fdr_UpDwn_Pnmatic_Pre': [17.7468, 17.7468], 'Fdr_Guide_Pre': [90.2129, 110.9175], 'Stnr_Pmp_HydPre': [635.927, 983.4685], 'Stnr_Pmp_Vrms': [0.0016, 0.003], 'Stnr_Pmp_Apk': [24.6, 150.7], 'Stnr_Pmp_Arms': [6.2, 19.9], 'Stnr_Pmp_Crst': [3.5, 10.3], 'Stnr_Pmp_Temp': [99.32, 112.82], 'Stnr_HydResvr_OilLvl': [100.0, 32760.0], 'Stnr_MandrelArmRoller_FwdPre': [409.6553, 585.6444], 'Stnr_MandrelArmRoller_RevPre': [100.5652, 143.4533], 'Stnr_HydMtrVrms': [0.0001, 0.0014], 'Stnr_HydMtrApk': [1.3, 71.2], 'Stnr_HydMtrArms': [0.4, 7.2], 'Stnr_HydMtrCrst': [3.0, 16.9], 'Stnr_HydMtrTemp': [82.22, 92.48], 'Stnr_Pinch_Roller_Pre': [0.0, 22.1835], 'Stnr_Mtr_Vrms': [0.0009, 0.0021], 'Stnr_Mtr_Apk': [14.7, 30.0], 'Stnr_Mtr_Arms': [4.2, 6.2], 'Stnr_Mtr_Crst': [3.3, 5.6], 'Stnr_Mtr_Temp': [105.08, 116.06], 'RadMtr_Vrms': [0.0001, 0.0063], 'RadMtr_Apk': [0.3, 11.5], 'RadMtr_Arms': [0.1, 2.4], 'RadMtr_Crst': [3.2, 5.3], 'RadMtr_Temp': [83.84, 90.86], 'Crwn_HydUnit_Resvr_OilLvl': [122.0, 160.0], 'Crwn_HydUnit_HydClutch_Pre': [14.789, 1110.654], 'Crwn_HydUnit_HydraulicPre': [19.2257, 1113.612], 'Crwn_HydUnit_HydMtrVrms': [0.0003, 0.015], 'Crwn_HydUnit_HydMtrApk': [0.3, 27.7], 'Crwn_HydUnit_HydMtrArms': [0.1, 6.7], 'Crwn_HydUnit_HydMtrCrst': [3.2, 4.5], 'Crwn_HydUnit_HydMtrTemp': [86.9, 91.76], 'Crwn_HydUnit_HydPmp_Vrms': [0.0003, 0.0095], 'Crwn_HydUnit_HydPmp_Apk': [0.3, 59.8], 'Crwn_HydUnit_HydPmp_Arms': [0.1, 13.6], 'Crwn_HydUnit_HydPmp_Crst': [3.3, 5.0], 'Crwn_HydUnit_HydPmp_Temp': [104.18, 110.66], 'Ram_FR_CNut_Lube_Pre': [0.0, 115.3542], 'Ram_FL_CNut_Lube_Pre': [2.9578, 125.7065], 'Ram_RR_CNut_Lube_Pre': [0.0, 119.7909], 'Ram_RL_CNut_Lube_Pre': [0.0, 128.6643], 'Rear_LubeBlock_Pre': [0.0, 388.9507], 'Pit_Hyd_Prefilter_Real_PSI': [607.8279, 736.4922], 'Pit_HydPre_Postfilter_Real_PSI': [600.4334, 729.0977], 'Pit_HydOverload_Pre_Real_PSI': [1734.75, 1891.513], 'Pit_Pmp_Vrms': [0.0003, 0.0008], 'Pit_Pmp_Apk': [12.9, 35.6], 'Pit_Pmp_Arms': [3.0, 4.7], 'Pit_Pmp_Crst': [4.2, 8.1], 'Pit_Pmp_Temp': [83.66, 86.0], 'Pit_LubeLevel': [211.0, 324.0], 'Pit_Mtr_Vrms': [0.0002, 0.0006], 'Pit_Mtr_Apk': [4.8, 7.7], 'Pit_Mtr_Arms': [1.3, 1.6], 'Pit_Mtr_Crst': [3.5, 5.3], 'Pit_Mtr_Temp': [76.46001, 79.52], 'PitFlood': [0.0, 0.0], 'CBal_pre_PSI': [70.9872, 93.1707], 'QDC_Drive_Pre_PSI': [88.734, 109.4386], 'RCBal_Resvr_Pre': [69.5083, 93.1707], 'LCBal_Resvr_Pre_PSI': [70.9872, 93.1707], 'FL_Gb_Cnd_Vrms': [0.0, 0.0021], 'FL_Gb_Cnd_Apk': [0.2, 13.3], 'FL_Gb_Cnd_Arms': [0.0, 1.5], 'FL_Gb_Cnd_Crst': [3.4, 11.6], 'FL_Gb_Cnd_Temp': [79.7, 83.66], 'FR_Gb_Cnd_Vrms': [0.0, 0.0024], 'FR_Gb_Cnd_Apk': [0.2, 12.9], 'FR_Gb_Cnd_Arms': [0.1, 1.4], 'FR_Gb_Cnd_Crst': [3.4, 10.5], 'FR_Gb_Cnd_Temp': [81.14, 86.54], 'RR_Gb_Cnd_Apk': [0.2, 11.0], 'RR_Gb_Cnd_Arms': [0.1, 1.4], 'RR_Gb_Cnd_Vrms': [0.0, 0.0019], 'RR_Gb_Cnd_Crst': [3.5, 11.6], 'RR_Gb_Cnd_Temp': [79.34, 84.38], 'RL_Gb_Cnd_Vrms': [0.0, 0.0023], 'RL_Gb_Cnd_Apk': [0.2, 12.1], 'RL_Gb_Cnd_Arms': [0.1, 1.2], 'RL_Gb_Cnd_Crst': [3.0, 13.9], 'RL_Gb_Cnd_Temp': [82.22, 88.52], 'Ram_FR_CNut_Vrms': [0.0001, 0.0104], 'Ram_FR_CNut_Apk': [0.2, 49.51949999998324], 'Ram_FR_CNut_Arms': [0.1, 2.8], 'Ram_FR_CNut_Crst': [3.5, 37.8], 'Ram_FR_CNut_Temp': [86.0, 89.96001], 'Ram_FL_CNut_Vrms': [0.0, 0.009699999], 'Ram_FL_CNut_Apk': [0.2, 16.1], 'Ram_FL_CNut_Arms': [0.0, 2.7], 'Ram_FL_CNut_Crst': [3.4, 17.4], 'Ram_FL_CNut_Temp': [84.74001, 89.06], 'Ram_RR_CNut_Vrms': [0.0, 0.0105], 'Ram_RR_CNut_Apk': [0.2, 38.7], 'Ram_RR_CNut_Arms': [0.0, 2.6], 'Ram_RR_CNut_Crst': [3.5, 28.0], 'Ram_RR_CNut_Temp': [83.12, 87.44], 'Ram_RL_CNut_Vrms': [0.0, 0.009699999], 'Ram_RL_CNut_Apk': [0.2, 51.9], 'Ram_RL_CNut_Arms': [0.0, 2.7], 'Ram_RL_CNut_Crst': [3.4, 45.8], 'Ram_RL_CNut_Temp': [83.66, 88.52], 'Ram_Adj_Mtr_Vrms': [0.0001, 0.0153], 'Ram_Adj_Mtr_Apk': [0.2, 20.5], 'Ram_Adj_Mtr_Arms': [0.1, 4.7], 'Ram_Adj_Mtr_Crest': [3.2, 10.8], 'Ram_Adj_Mtr_Temp': [82.22, 89.06], 'Xfer_MainPre_PSI': [88.734, 109.4386], 'Xfer_HydUnit_OilLvl_UGT526inmm': [120.0, 152.0], 'Xfer_UnitHydMtr_Vrms': [0.0, 0.0017], 'Xfer_UnitHydMtr_Apk': [0.2, 6.0], 'Xfer_UnitHydMtr_Arms': [0.0, 1.5], 'Xfer_UnitHydMtr_Crst': [3.3, 6.0], 'Xfer_UnitHydMtr_Temp': [82.04, 110.3], 'XferHyd_Pre': [4.4367, 971.6373]}"
   ]
  },
  {
   "cell_type": "code",
   "execution_count": 2,
   "metadata": {},
   "outputs": [
    {
     "name": "stdout",
     "output_type": "stream",
     "text": [
      "                          min        max\n",
      "FL_UprLink_Pin_Vrms    0.0000     0.0037\n",
      "FL_UprLink_Pin_Apk     0.1000   101.4000\n",
      "FL_UprLink_Pin_Arms    0.0000     2.6000\n",
      "FL_UprLink_Pin_Crst    3.0000  3276.0000\n",
      "FL_UprLink_Pin_Temp   95.3600    96.8000\n",
      "...                       ...        ...\n",
      "Stnr_HydMtrVrms        0.0001     0.0056\n",
      "Stnr_HydMtrApk         0.2000  3276.0000\n",
      "Stnr_HydMtrArms        0.1000    17.9000\n",
      "Stnr_HydMtrCrst        2.9000  3276.0000\n",
      "Stnr_HydMtrTemp      110.4800   113.7200\n",
      "\n",
      "[185 rows x 2 columns]\n",
      "[FL_UprLink_Pin_Vrms: Sensor registered data above upper limit, FL_UprLink_Pin_Apk: Sensor registered data both below limit and above upper limit in the last 5 minutes, FL_UprLink_Pin_Arms: Sensor registered data above upper limit, FL_UprLink_Pin_Crst: Sensor registered data both below limit and above upper limit in the last 5 minutes, FL_UprLink_Pin_Temp: Sensor registered data above upper limit, FL_Eccntric_Pin_Vrms: Sensor registered data above upper limit, FL_Eccntric_Pin_Apk: Sensor registered data both below limit and above upper limit in the last 5 minutes, FL_Eccntric_Pin_Arms: Sensor registered data both below limit and above upper limit in the last 5 minutes, FL_Eccntric_Pin_Crst: Sensor registered data both below limit and above upper limit in the last 5 minutes, FL_Eccntric_Pin_TempFar: Sensor registered data above upper limit, Frnt_InterPin_Vrms: Sensor registered data both below limit and above upper limit in the last 5 minutes, Frnt_InterPin_Apk: Sensor registered data above upper limit, Frnt_InterPin_Arms: Sensor registered data above upper limit, Frnt_InterPin_Crst: Sensor registered data both below limit and above upper limit in the last 5 minutes, Frnt_InterPin_Temp: Sensor registered data above upper limit, Drive_Shaft_Pin_Vrms: Sensor registered data above upper limit, Drive_Shaft_Pin_Apk: Sensor registered data both below limit and above upper limit in the last 5 minutes, Drive_Shaft_Pin_Arms: Sensor registered data both below limit and above upper limit in the last 5 minutes, Drive_Shaft_Pin_Crst: Sensor registered data both below limit and above upper limit in the last 5 minutes, Drive_Shaft_Pin_Temp: Sensor registered data above upper limit, FR_Eccntric_Pin_Vrms: Sensor registered data above upper limit, FR_Eccntric_Pin_Apk: Sensor registered data both below limit and above upper limit in the last 5 minutes, FR_Eccntric_Pin_Arms: Sensor registered data both below limit and above upper limit in the last 5 minutes, FR_Eccntric_Pin_Crst: Sensor registered data above upper limit, FR_Eccntric_Pin_Temp: Sensor registered data above upper limit, FR_UprLink_Pin_Vrms: Sensor registered data above upper limit, FR_UprLink_Pin_Apk: Sensor registered data above upper limit, FR_UprLink_Pin_Arms: Sensor registered data above upper limit, FR_UprLink_Pin_Crst: Sensor registered data both below limit and above upper limit in the last 5 minutes, FR_UprLink_Pin_Temp: Sensor registered data above upper limit, Ram_FR_CNut_Vrms: Sensor registered data both below limit and above upper limit in the last 5 minutes, Ram_FR_CNut_Apk: Sensor registered data above upper limit, Ram_FR_CNut_Arms: Sensor registered data both below limit and above upper limit in the last 5 minutes, Ram_FR_CNut_Crst: Sensor registered data both below limit and above upper limit in the last 5 minutes, Ram_FR_CNut_Temp: Sensor registered data above upper limit, Ram_FL_CNut_Vrms: Sensor registered data above upper limit, Ram_FL_CNut_Apk: Sensor registered data above upper limit, Ram_FL_CNut_Arms: Sensor registered data above upper limit, Ram_FL_CNut_Crst: Sensor registered data both below limit and above upper limit in the last 5 minutes, Ram_FL_CNut_Temp: Sensor registered data above upper limit, Ram_RR_CNut_Vrms: Sensor registered data above upper limit, Ram_RR_CNut_Apk: Sensor registered data above upper limit, Ram_RR_CNut_Arms: Sensor registered data above upper limit, Ram_RR_CNut_Crst: Sensor registered data both below limit and above upper limit in the last 5 minutes, Ram_RR_CNut_Temp: Sensor registered data above upper limit, Ram_RL_CNut_Vrms: Sensor registered data above upper limit, Ram_RL_CNut_Apk: Sensor registered data above upper limit, Ram_RL_CNut_Arms: Sensor registered data above upper limit, Ram_RL_CNut_Crst: Sensor registered data both below limit and above upper limit in the last 5 minutes, Ram_RL_CNut_Temp: Sensor registered data above upper limit, RadMtr_Vrms: Sensor registered data both below limit and above upper limit in the last 5 minutes, RadMtr_Apk: Sensor registered data both below limit and above upper limit in the last 5 minutes, RadMtr_Arms: Sensor registered data above upper limit, RadMtr_Crst: Sensor registered data above upper limit, RadMtr_Temp: Sensor registered data above upper limit, Crwn_HydUnit_Resvr_OilLvl: Sensor registered data both below limit and above upper limit in the last 5 minutes, Crwn_HydUnit_HydClutch_Pre: Sensor registered data both below limit and above upper limit in the last 5 minutes, Crwn_HydUnit_HydraulicPre: Sensor registered data both below limit and above upper limit in the last 5 minutes, Crwn_HydUnit_HydMtrVrms: Sensor registered data both below limit and above upper limit in the last 5 minutes, Crwn_HydUnit_HydMtrApk: Sensor registered data above upper limit, Crwn_HydUnit_HydMtrArms: Sensor registered data above upper limit, Crwn_HydUnit_HydMtrCrst: Sensor registered data both below limit and above upper limit in the last 5 minutes, Crwn_HydUnit_HydMtrTemp: Sensor registered data above upper limit, Crwn_HydUnit_HydPmp_Vrms: Sensor registered data both below limit and above upper limit in the last 5 minutes, Crwn_HydUnit_HydPmp_Apk: Sensor registered data both below limit and above upper limit in the last 5 minutes, Crwn_HydUnit_HydPmp_Arms: Sensor registered data both below limit and above upper limit in the last 5 minutes, Crwn_HydUnit_HydPmp_Crst: Sensor registered data both below limit and above upper limit in the last 5 minutes, Crwn_HydUnit_HydPmp_Temp: Sensor registered data above upper limit, QDC_Drive_Pre_PSI: Sensor registered data above upper limit, FL_Gb_Cnd_Vrms: Sensor registered data above upper limit, FL_Gb_Cnd_Apk: Sensor registered data above upper limit, FL_Gb_Cnd_Arms: Sensor registered data above upper limit, FL_Gb_Cnd_Crst: Sensor registered data both below limit and above upper limit in the last 5 minutes, FL_Gb_Cnd_Temp: Sensor registered data above upper limit, FR_Gb_Cnd_Vrms: Sensor registered data above upper limit, FR_Gb_Cnd_Apk: Sensor registered data above upper limit, FR_Gb_Cnd_Arms: Sensor registered data both below limit and above upper limit in the last 5 minutes, FR_Gb_Cnd_Crst: Sensor registered data both below limit and above upper limit in the last 5 minutes, FR_Gb_Cnd_Temp: Sensor registered data above upper limit, RR_Gb_Cnd_Apk: Sensor registered data above upper limit, RR_Gb_Cnd_Arms: Sensor registered data both below limit and above upper limit in the last 5 minutes, RR_Gb_Cnd_Vrms: Sensor registered data above upper limit, RR_Gb_Cnd_Crst: Sensor registered data both below limit and above upper limit in the last 5 minutes, RR_Gb_Cnd_Temp: Sensor registered data above upper limit, RL_Gb_Cnd_Vrms: Sensor registered data above upper limit, RL_Gb_Cnd_Apk: Sensor registered data above upper limit, RL_Gb_Cnd_Arms: Sensor registered data both below limit and above upper limit in the last 5 minutes, RL_Gb_Cnd_Crst: Sensor registered data both below limit and above upper limit in the last 5 minutes, RL_Gb_Cnd_Temp: Sensor registered data above upper limit, Ram_FR_CNut_Lube_Pre: Sensor registered data above upper limit, Ram_FL_CNut_Lube_Pre: Sensor registered data both below limit and above upper limit in the last 5 minutes, Ram_RR_CNut_Lube_Pre: Sensor registered data above upper limit, Ram_Adj_Mtr_Vrms: Sensor registered data above upper limit, Ram_Adj_Mtr_Apk: Sensor registered data above upper limit, Ram_Adj_Mtr_Arms: Sensor registered data below lower limit, Ram_Adj_Mtr_Crest: Sensor registered data both below limit and above upper limit in the last 5 minutes, Ram_Adj_Mtr_Temp: Sensor registered data above upper limit, RR_EccntricBshg_Vrms: Sensor registered data above upper limit, RR_EccntricBshg_Apk: Sensor registered data above upper limit, RR_EccntricBshg_Arms: Sensor registered data both below limit and above upper limit in the last 5 minutes, RR_EccntricBshg_Crst: Sensor registered data both below limit and above upper limit in the last 5 minutes, RR_EccntricBshg_Temp: Sensor registered data above upper limit, RR_UprLink_Bshg_Vrms: Sensor registered data above upper limit, RR_UprLink_Bshg_Apk: Sensor registered data above upper limit, RR_UprLink_Bshg_Arms: Sensor registered data both below limit and above upper limit in the last 5 minutes, RR_UprLink_Bshg_Crst: Sensor registered data both below limit and above upper limit in the last 5 minutes, RR_UprLink_Bshg_Temp: Sensor registered data above upper limit, FlyWhlShaftBshg_Outside_Vrms: Sensor registered data above upper limit, FlyWhlShaftBshg_Outside_Apk: Sensor registered data both below limit and above upper limit in the last 5 minutes, FlyWhlShaftBshg_Outside_Arms: Sensor registered data both below limit and above upper limit in the last 5 minutes, FlyWhlShaftBshg_Outside_Crst: Sensor registered data both below limit and above upper limit in the last 5 minutes, FlyWhlShaftBshg_Outside_Temp: Sensor registered data above upper limit, RL_EccntricBshg_Vrms: Sensor registered data above upper limit, RL_EccntricBshg_Apk: Sensor registered data above upper limit, RL_EccntricBshg_Arms: Sensor registered data above upper limit, RL_EccntricBshg_Crst: Sensor registered data both below limit and above upper limit in the last 5 minutes, RL_EccntricBshg_Temp: Sensor registered data above upper limit, RL_UprLink_Bshg_Vrms: Sensor registered data above upper limit, RL_UprLink_Bshg_Apk: Sensor registered data above upper limit, RL_UprLink_Bshg_Arms: Sensor registered data both below limit and above upper limit in the last 5 minutes, RL_UprLink_Bshg_Crst: Sensor registered data both below limit and above upper limit in the last 5 minutes, RL_UprLink_Bshg_Temp: Sensor registered data above upper limit, Xfer_UnitHydMtr_Apk: Sensor registered data below lower limit, Xfer_UnitHydMtr_Crst: Sensor registered data both below limit and above upper limit in the last 5 minutes, Stnr_Mtr_Vrms: Sensor registered data both below limit and above upper limit in the last 5 minutes, Stnr_Mtr_Apk: Sensor registered data both below limit and above upper limit in the last 5 minutes, Stnr_Mtr_Arms: Sensor registered data both below limit and above upper limit in the last 5 minutes, Stnr_Mtr_Crst: Sensor registered data both below limit and above upper limit in the last 5 minutes, Stnr_Mtr_Temp: Sensor registered data above upper limit, DieClamp1_Pre: Sensor registered data above upper limit, DieClamp2_Pre: Sensor registered data above upper limit, QDC_UnClamp_Pre: Sensor registered data above upper limit, QDC_Clamp_Pre: Sensor registered data above upper limit, MainHPU_Psressure_Pre: Sensor registered data above upper limit, uncolr_Mandrel_ret_Pre: Sensor registered data above upper limit, uncolr_Mandrel_Exp_Pre: Sensor registered data both below limit and above upper limit in the last 5 minutes, uncolr_Mandrel_JgFwd_Pre: Sensor registered data both below limit and above upper limit in the last 5 minutes, uncolr_Mandrel_JgRev_Pre: Sensor registered data both below limit and above upper limit in the last 5 minutes, Pit_Hyd_Prefilter_Real_PSI: Sensor registered data below lower limit, Pit_HydPre_Postfilter_Real_PSI: Sensor registered data below lower limit, Pit_Pmp_Vrms: Sensor registered data both below limit and above upper limit in the last 5 minutes, Pit_Pmp_Apk: Sensor registered data below lower limit, Pit_Pmp_Arms: Sensor registered data below lower limit, Pit_Pmp_Crst: Sensor registered data both below limit and above upper limit in the last 5 minutes, Pit_Pmp_Temp: Sensor registered data above upper limit, Pit_Mtr_Vrms: Sensor registered data above upper limit, Pit_Mtr_Apk: Sensor registered data below lower limit, Pit_Mtr_Arms: Sensor registered data below lower limit, Pit_Mtr_Crst: Sensor registered data both below limit and above upper limit in the last 5 minutes, Pit_Mtr_Temp: Sensor registered data above upper limit, Fdr_UpDwn_Pnmatic_Pre: Sensor registered data above upper limit, Stnr_Pmp_HydPre: Sensor registered data both below limit and above upper limit in the last 5 minutes, Stnr_Pmp_Vrms: Sensor registered data above upper limit, Stnr_Pmp_Apk: Sensor registered data above upper limit, Stnr_Pmp_Arms: Sensor registered data above upper limit, Stnr_Pmp_Crst: Sensor registered data both below limit and above upper limit in the last 5 minutes, Stnr_Pmp_Temp: Sensor registered data above upper limit, Stnr_MandrelArmRoller_FwdPre: Sensor registered data both below limit and above upper limit in the last 5 minutes, Stnr_MandrelArmRoller_RevPre: Sensor registered data both below limit and above upper limit in the last 5 minutes, Stnr_HydMtrVrms: Sensor registered data above upper limit, Stnr_HydMtrApk: Sensor registered data both below limit and above upper limit in the last 5 minutes, Stnr_HydMtrArms: Sensor registered data both below limit and above upper limit in the last 5 minutes, Stnr_HydMtrCrst: Sensor registered data both below limit and above upper limit in the last 5 minutes, Stnr_HydMtrTemp: Sensor registered data above upper limit]\n"
     ]
    }
   ],
   "source": [
    "class Error:\n",
    "    def __init__(self,sensor_name,description):\n",
    "        self.sensor_name = sensor_name\n",
    "        self.description = description\n",
    "\n",
    "    def __repr__(self):\n",
    "        return f\"{self.sensor_name}: {self.description}\"\n",
    "    \n",
    "def press_24_alert_generator():\n",
    "    press = \"Press_24\"\n",
    "\n",
    "    myclient_global = pymongo.MongoClient(host = \"128.121.34.13\", connect = True )\n",
    "    press_db = myclient_global[press]\n",
    "    end = datetime.now()\n",
    "    start   = end - timedelta(minutes=60)\n",
    "\n",
    "    min_max = pd.DataFrame()\n",
    "\n",
    "    for batch in ['BATCH_1','BATCH_2','BATCH_3','BATCH_4']:\n",
    "        collection= press_db[batch]\n",
    "        projection = {}\n",
    "        projection['_id'] = 0\n",
    "        projection['Date'] = 1\n",
    "\n",
    "        for sensor in sensor_dict.keys():\n",
    "            projection[sensor] = 1\n",
    "\n",
    "        QUERY = {\"Date\": {'$gte': start, '$lt':  end}}\n",
    "        results = collection.find(QUERY,projection)\n",
    "        df1 = pd.DataFrame(results).set_index('Date')\n",
    "        describe = df1.describe().T\n",
    "        describe = describe[['min','max']]\n",
    "        min_max = pd.concat([min_max,describe],axis=0)\n",
    "\n",
    "    print(min_max)\n",
    "\n",
    "    error_list = []\n",
    "    for i in range(len(min_max)):\n",
    "        name = min_max.iloc[i].name\n",
    "        lower = min_max.iloc[i].min()\n",
    "        upper = min_max.iloc[i].max()\n",
    "        [lower_limit, upper_limit] = sensor_dict[name]\n",
    "\n",
    "        if lower < lower_limit and upper > upper_limit:\n",
    "            lower_error = True\n",
    "            upper_error = True\n",
    "        elif lower < lower_limit:\n",
    "            lower_error = True\n",
    "            upper_error = False\n",
    "        elif upper > upper_limit:\n",
    "            lower_error = False\n",
    "            upper_error = True\n",
    "        else:\n",
    "            lower_error = False\n",
    "            upper_error = False\n",
    "\n",
    "        if lower_error or upper_error:\n",
    "            descr = \"\"\n",
    "            if lower_error and upper_error:\n",
    "                descr = \"Sensor registered data both below limit and above upper limit in the last 5 minutes\"\n",
    "            elif lower_error:\n",
    "                descr = \"Sensor registered data below lower limit\"\n",
    "            elif upper_error:\n",
    "                descr = \"Sensor registered data above upper limit\"\n",
    "            error = Error(name,descr)\n",
    "            error_list.append(error)\n",
    "\n",
    "    return error_list"
   ]
  }
 ],
 "metadata": {
  "kernelspec": {
   "display_name": "Python 3",
   "language": "python",
   "name": "python3"
  },
  "language_info": {
   "codemirror_mode": {
    "name": "ipython",
    "version": 3
   },
   "file_extension": ".py",
   "mimetype": "text/x-python",
   "name": "python",
   "nbconvert_exporter": "python",
   "pygments_lexer": "ipython3",
   "version": "3.9.0"
  },
  "orig_nbformat": 4
 },
 "nbformat": 4,
 "nbformat_minor": 2
}
